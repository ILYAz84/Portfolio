{
 "cells": [
  {
   "cell_type": "markdown",
   "metadata": {},
   "source": [
    "# [учебная задача]"
   ]
  },
  {
   "cell_type": "markdown",
   "metadata": {},
   "source": [
    "# Выбор локации для скважины"
   ]
  },
  {
   "cell_type": "markdown",
   "metadata": {},
   "source": [
    "Предоставлены пробы нефти в трёх регионах: в каждом 10 000 месторождений, где измерили качество нефти и объём её запасов. Нужно построить модель машинного обучения, которая поможет определить регион, где добыча принесёт наибольшую прибыль. "
   ]
  },
  {
   "cell_type": "markdown",
   "metadata": {},
   "source": [
    "## Загрузка и подготовка данных"
   ]
  },
  {
   "cell_type": "code",
   "execution_count": 1,
   "metadata": {},
   "outputs": [],
   "source": [
    "import pandas as pd\n",
    "import matplotlib.pyplot as plt\n",
    "\n",
    "from sklearn.linear_model import LinearRegression\n",
    "from sklearn.model_selection import train_test_split\n",
    "from sklearn.metrics import mean_squared_error\n",
    "from sklearn.metrics import r2_score\n",
    "\n",
    "from numpy.random import RandomState\n",
    "from scipy import stats as st"
   ]
  },
  {
   "cell_type": "code",
   "execution_count": 2,
   "metadata": {},
   "outputs": [],
   "source": [
    "df0 = pd.read_csv('geo_data_0.csv')\n",
    "df1 = pd.read_csv('geo_data_1.csv')\n",
    "df2 = pd.read_csv('geo_data_2.csv')"
   ]
  },
  {
   "cell_type": "markdown",
   "metadata": {},
   "source": [
    "### Описание данных\n",
    "<p> id — уникальный идентификатор скважины;\n",
    "<p> f0, f1, f2 — три признака точек (неважно, что они означают, но сами признаки значимы);\n",
    "<p> product — объём запасов в скважине (тыс. баррелей)."
   ]
  },
  {
   "cell_type": "code",
   "execution_count": 3,
   "metadata": {},
   "outputs": [],
   "source": [
    "# Порядок действий (функции see()):\n",
    "# Уточним размер таблицы данных\n",
    "# Уточним количество уникальных id скважин\n",
    "# Уточним названия столбцов\n",
    "# Уточним типы данных\n",
    "# Посмотрим на данные\n",
    "# Для более полного описания \"разлета\" значений воспользуемся методом describe()\n",
    "\n",
    "def see(df):\n",
    "    print(df.shape)\n",
    "    print()\n",
    "    print(pd.DataFrame(list(df0['id'].unique()))[0].count(), '- уникальных ID')\n",
    "    print()\n",
    "    print(df.columns)\n",
    "    print()\n",
    "    print(df.info())\n",
    "    display(df.head())\n",
    "    display(df.describe())\n",
    "    print('----------------------------------------------------')\n",
    "\n",
    "def see_list(A):\n",
    "    for x in A:  \n",
    "        see(x) # вызов функции rmse"
   ]
  },
  {
   "cell_type": "code",
   "execution_count": 4,
   "metadata": {},
   "outputs": [
    {
     "name": "stdout",
     "output_type": "stream",
     "text": [
      "(100000, 5)\n",
      "\n",
      "99990 - уникальных ID\n",
      "\n",
      "Index(['id', 'f0', 'f1', 'f2', 'product'], dtype='object')\n",
      "\n",
      "<class 'pandas.core.frame.DataFrame'>\n",
      "RangeIndex: 100000 entries, 0 to 99999\n",
      "Data columns (total 5 columns):\n",
      " #   Column   Non-Null Count   Dtype  \n",
      "---  ------   --------------   -----  \n",
      " 0   id       100000 non-null  object \n",
      " 1   f0       100000 non-null  float64\n",
      " 2   f1       100000 non-null  float64\n",
      " 3   f2       100000 non-null  float64\n",
      " 4   product  100000 non-null  float64\n",
      "dtypes: float64(4), object(1)\n",
      "memory usage: 3.8+ MB\n",
      "None\n"
     ]
    },
    {
     "data": {
      "text/html": [
       "<div>\n",
       "<style scoped>\n",
       "    .dataframe tbody tr th:only-of-type {\n",
       "        vertical-align: middle;\n",
       "    }\n",
       "\n",
       "    .dataframe tbody tr th {\n",
       "        vertical-align: top;\n",
       "    }\n",
       "\n",
       "    .dataframe thead th {\n",
       "        text-align: right;\n",
       "    }\n",
       "</style>\n",
       "<table border=\"1\" class=\"dataframe\">\n",
       "  <thead>\n",
       "    <tr style=\"text-align: right;\">\n",
       "      <th></th>\n",
       "      <th>id</th>\n",
       "      <th>f0</th>\n",
       "      <th>f1</th>\n",
       "      <th>f2</th>\n",
       "      <th>product</th>\n",
       "    </tr>\n",
       "  </thead>\n",
       "  <tbody>\n",
       "    <tr>\n",
       "      <th>0</th>\n",
       "      <td>txEyH</td>\n",
       "      <td>0.705745</td>\n",
       "      <td>-0.497823</td>\n",
       "      <td>1.221170</td>\n",
       "      <td>105.280062</td>\n",
       "    </tr>\n",
       "    <tr>\n",
       "      <th>1</th>\n",
       "      <td>2acmU</td>\n",
       "      <td>1.334711</td>\n",
       "      <td>-0.340164</td>\n",
       "      <td>4.365080</td>\n",
       "      <td>73.037750</td>\n",
       "    </tr>\n",
       "    <tr>\n",
       "      <th>2</th>\n",
       "      <td>409Wp</td>\n",
       "      <td>1.022732</td>\n",
       "      <td>0.151990</td>\n",
       "      <td>1.419926</td>\n",
       "      <td>85.265647</td>\n",
       "    </tr>\n",
       "    <tr>\n",
       "      <th>3</th>\n",
       "      <td>iJLyR</td>\n",
       "      <td>-0.032172</td>\n",
       "      <td>0.139033</td>\n",
       "      <td>2.978566</td>\n",
       "      <td>168.620776</td>\n",
       "    </tr>\n",
       "    <tr>\n",
       "      <th>4</th>\n",
       "      <td>Xdl7t</td>\n",
       "      <td>1.988431</td>\n",
       "      <td>0.155413</td>\n",
       "      <td>4.751769</td>\n",
       "      <td>154.036647</td>\n",
       "    </tr>\n",
       "  </tbody>\n",
       "</table>\n",
       "</div>"
      ],
      "text/plain": [
       "      id        f0        f1        f2     product\n",
       "0  txEyH  0.705745 -0.497823  1.221170  105.280062\n",
       "1  2acmU  1.334711 -0.340164  4.365080   73.037750\n",
       "2  409Wp  1.022732  0.151990  1.419926   85.265647\n",
       "3  iJLyR -0.032172  0.139033  2.978566  168.620776\n",
       "4  Xdl7t  1.988431  0.155413  4.751769  154.036647"
      ]
     },
     "metadata": {},
     "output_type": "display_data"
    },
    {
     "data": {
      "text/html": [
       "<div>\n",
       "<style scoped>\n",
       "    .dataframe tbody tr th:only-of-type {\n",
       "        vertical-align: middle;\n",
       "    }\n",
       "\n",
       "    .dataframe tbody tr th {\n",
       "        vertical-align: top;\n",
       "    }\n",
       "\n",
       "    .dataframe thead th {\n",
       "        text-align: right;\n",
       "    }\n",
       "</style>\n",
       "<table border=\"1\" class=\"dataframe\">\n",
       "  <thead>\n",
       "    <tr style=\"text-align: right;\">\n",
       "      <th></th>\n",
       "      <th>f0</th>\n",
       "      <th>f1</th>\n",
       "      <th>f2</th>\n",
       "      <th>product</th>\n",
       "    </tr>\n",
       "  </thead>\n",
       "  <tbody>\n",
       "    <tr>\n",
       "      <th>count</th>\n",
       "      <td>100000.000000</td>\n",
       "      <td>100000.000000</td>\n",
       "      <td>100000.000000</td>\n",
       "      <td>100000.000000</td>\n",
       "    </tr>\n",
       "    <tr>\n",
       "      <th>mean</th>\n",
       "      <td>0.500419</td>\n",
       "      <td>0.250143</td>\n",
       "      <td>2.502647</td>\n",
       "      <td>92.500000</td>\n",
       "    </tr>\n",
       "    <tr>\n",
       "      <th>std</th>\n",
       "      <td>0.871832</td>\n",
       "      <td>0.504433</td>\n",
       "      <td>3.248248</td>\n",
       "      <td>44.288691</td>\n",
       "    </tr>\n",
       "    <tr>\n",
       "      <th>min</th>\n",
       "      <td>-1.408605</td>\n",
       "      <td>-0.848218</td>\n",
       "      <td>-12.088328</td>\n",
       "      <td>0.000000</td>\n",
       "    </tr>\n",
       "    <tr>\n",
       "      <th>25%</th>\n",
       "      <td>-0.072580</td>\n",
       "      <td>-0.200881</td>\n",
       "      <td>0.287748</td>\n",
       "      <td>56.497507</td>\n",
       "    </tr>\n",
       "    <tr>\n",
       "      <th>50%</th>\n",
       "      <td>0.502360</td>\n",
       "      <td>0.250252</td>\n",
       "      <td>2.515969</td>\n",
       "      <td>91.849972</td>\n",
       "    </tr>\n",
       "    <tr>\n",
       "      <th>75%</th>\n",
       "      <td>1.073581</td>\n",
       "      <td>0.700646</td>\n",
       "      <td>4.715088</td>\n",
       "      <td>128.564089</td>\n",
       "    </tr>\n",
       "    <tr>\n",
       "      <th>max</th>\n",
       "      <td>2.362331</td>\n",
       "      <td>1.343769</td>\n",
       "      <td>16.003790</td>\n",
       "      <td>185.364347</td>\n",
       "    </tr>\n",
       "  </tbody>\n",
       "</table>\n",
       "</div>"
      ],
      "text/plain": [
       "                  f0             f1             f2        product\n",
       "count  100000.000000  100000.000000  100000.000000  100000.000000\n",
       "mean        0.500419       0.250143       2.502647      92.500000\n",
       "std         0.871832       0.504433       3.248248      44.288691\n",
       "min        -1.408605      -0.848218     -12.088328       0.000000\n",
       "25%        -0.072580      -0.200881       0.287748      56.497507\n",
       "50%         0.502360       0.250252       2.515969      91.849972\n",
       "75%         1.073581       0.700646       4.715088     128.564089\n",
       "max         2.362331       1.343769      16.003790     185.364347"
      ]
     },
     "metadata": {},
     "output_type": "display_data"
    },
    {
     "name": "stdout",
     "output_type": "stream",
     "text": [
      "----------------------------------------------------\n",
      "(100000, 5)\n",
      "\n",
      "99990 - уникальных ID\n",
      "\n",
      "Index(['id', 'f0', 'f1', 'f2', 'product'], dtype='object')\n",
      "\n",
      "<class 'pandas.core.frame.DataFrame'>\n",
      "RangeIndex: 100000 entries, 0 to 99999\n",
      "Data columns (total 5 columns):\n",
      " #   Column   Non-Null Count   Dtype  \n",
      "---  ------   --------------   -----  \n",
      " 0   id       100000 non-null  object \n",
      " 1   f0       100000 non-null  float64\n",
      " 2   f1       100000 non-null  float64\n",
      " 3   f2       100000 non-null  float64\n",
      " 4   product  100000 non-null  float64\n",
      "dtypes: float64(4), object(1)\n",
      "memory usage: 3.8+ MB\n",
      "None\n"
     ]
    },
    {
     "data": {
      "text/html": [
       "<div>\n",
       "<style scoped>\n",
       "    .dataframe tbody tr th:only-of-type {\n",
       "        vertical-align: middle;\n",
       "    }\n",
       "\n",
       "    .dataframe tbody tr th {\n",
       "        vertical-align: top;\n",
       "    }\n",
       "\n",
       "    .dataframe thead th {\n",
       "        text-align: right;\n",
       "    }\n",
       "</style>\n",
       "<table border=\"1\" class=\"dataframe\">\n",
       "  <thead>\n",
       "    <tr style=\"text-align: right;\">\n",
       "      <th></th>\n",
       "      <th>id</th>\n",
       "      <th>f0</th>\n",
       "      <th>f1</th>\n",
       "      <th>f2</th>\n",
       "      <th>product</th>\n",
       "    </tr>\n",
       "  </thead>\n",
       "  <tbody>\n",
       "    <tr>\n",
       "      <th>0</th>\n",
       "      <td>kBEdx</td>\n",
       "      <td>-15.001348</td>\n",
       "      <td>-8.276000</td>\n",
       "      <td>-0.005876</td>\n",
       "      <td>3.179103</td>\n",
       "    </tr>\n",
       "    <tr>\n",
       "      <th>1</th>\n",
       "      <td>62mP7</td>\n",
       "      <td>14.272088</td>\n",
       "      <td>-3.475083</td>\n",
       "      <td>0.999183</td>\n",
       "      <td>26.953261</td>\n",
       "    </tr>\n",
       "    <tr>\n",
       "      <th>2</th>\n",
       "      <td>vyE1P</td>\n",
       "      <td>6.263187</td>\n",
       "      <td>-5.948386</td>\n",
       "      <td>5.001160</td>\n",
       "      <td>134.766305</td>\n",
       "    </tr>\n",
       "    <tr>\n",
       "      <th>3</th>\n",
       "      <td>KcrkZ</td>\n",
       "      <td>-13.081196</td>\n",
       "      <td>-11.506057</td>\n",
       "      <td>4.999415</td>\n",
       "      <td>137.945408</td>\n",
       "    </tr>\n",
       "    <tr>\n",
       "      <th>4</th>\n",
       "      <td>AHL4O</td>\n",
       "      <td>12.702195</td>\n",
       "      <td>-8.147433</td>\n",
       "      <td>5.004363</td>\n",
       "      <td>134.766305</td>\n",
       "    </tr>\n",
       "  </tbody>\n",
       "</table>\n",
       "</div>"
      ],
      "text/plain": [
       "      id         f0         f1        f2     product\n",
       "0  kBEdx -15.001348  -8.276000 -0.005876    3.179103\n",
       "1  62mP7  14.272088  -3.475083  0.999183   26.953261\n",
       "2  vyE1P   6.263187  -5.948386  5.001160  134.766305\n",
       "3  KcrkZ -13.081196 -11.506057  4.999415  137.945408\n",
       "4  AHL4O  12.702195  -8.147433  5.004363  134.766305"
      ]
     },
     "metadata": {},
     "output_type": "display_data"
    },
    {
     "data": {
      "text/html": [
       "<div>\n",
       "<style scoped>\n",
       "    .dataframe tbody tr th:only-of-type {\n",
       "        vertical-align: middle;\n",
       "    }\n",
       "\n",
       "    .dataframe tbody tr th {\n",
       "        vertical-align: top;\n",
       "    }\n",
       "\n",
       "    .dataframe thead th {\n",
       "        text-align: right;\n",
       "    }\n",
       "</style>\n",
       "<table border=\"1\" class=\"dataframe\">\n",
       "  <thead>\n",
       "    <tr style=\"text-align: right;\">\n",
       "      <th></th>\n",
       "      <th>f0</th>\n",
       "      <th>f1</th>\n",
       "      <th>f2</th>\n",
       "      <th>product</th>\n",
       "    </tr>\n",
       "  </thead>\n",
       "  <tbody>\n",
       "    <tr>\n",
       "      <th>count</th>\n",
       "      <td>100000.000000</td>\n",
       "      <td>100000.000000</td>\n",
       "      <td>100000.000000</td>\n",
       "      <td>100000.000000</td>\n",
       "    </tr>\n",
       "    <tr>\n",
       "      <th>mean</th>\n",
       "      <td>1.141296</td>\n",
       "      <td>-4.796579</td>\n",
       "      <td>2.494541</td>\n",
       "      <td>68.825000</td>\n",
       "    </tr>\n",
       "    <tr>\n",
       "      <th>std</th>\n",
       "      <td>8.965932</td>\n",
       "      <td>5.119872</td>\n",
       "      <td>1.703572</td>\n",
       "      <td>45.944423</td>\n",
       "    </tr>\n",
       "    <tr>\n",
       "      <th>min</th>\n",
       "      <td>-31.609576</td>\n",
       "      <td>-26.358598</td>\n",
       "      <td>-0.018144</td>\n",
       "      <td>0.000000</td>\n",
       "    </tr>\n",
       "    <tr>\n",
       "      <th>25%</th>\n",
       "      <td>-6.298551</td>\n",
       "      <td>-8.267985</td>\n",
       "      <td>1.000021</td>\n",
       "      <td>26.953261</td>\n",
       "    </tr>\n",
       "    <tr>\n",
       "      <th>50%</th>\n",
       "      <td>1.153055</td>\n",
       "      <td>-4.813172</td>\n",
       "      <td>2.011479</td>\n",
       "      <td>57.085625</td>\n",
       "    </tr>\n",
       "    <tr>\n",
       "      <th>75%</th>\n",
       "      <td>8.621015</td>\n",
       "      <td>-1.332816</td>\n",
       "      <td>3.999904</td>\n",
       "      <td>107.813044</td>\n",
       "    </tr>\n",
       "    <tr>\n",
       "      <th>max</th>\n",
       "      <td>29.421755</td>\n",
       "      <td>18.734063</td>\n",
       "      <td>5.019721</td>\n",
       "      <td>137.945408</td>\n",
       "    </tr>\n",
       "  </tbody>\n",
       "</table>\n",
       "</div>"
      ],
      "text/plain": [
       "                  f0             f1             f2        product\n",
       "count  100000.000000  100000.000000  100000.000000  100000.000000\n",
       "mean        1.141296      -4.796579       2.494541      68.825000\n",
       "std         8.965932       5.119872       1.703572      45.944423\n",
       "min       -31.609576     -26.358598      -0.018144       0.000000\n",
       "25%        -6.298551      -8.267985       1.000021      26.953261\n",
       "50%         1.153055      -4.813172       2.011479      57.085625\n",
       "75%         8.621015      -1.332816       3.999904     107.813044\n",
       "max        29.421755      18.734063       5.019721     137.945408"
      ]
     },
     "metadata": {},
     "output_type": "display_data"
    },
    {
     "name": "stdout",
     "output_type": "stream",
     "text": [
      "----------------------------------------------------\n",
      "(100000, 5)\n",
      "\n",
      "99990 - уникальных ID\n",
      "\n",
      "Index(['id', 'f0', 'f1', 'f2', 'product'], dtype='object')\n",
      "\n",
      "<class 'pandas.core.frame.DataFrame'>\n",
      "RangeIndex: 100000 entries, 0 to 99999\n",
      "Data columns (total 5 columns):\n",
      " #   Column   Non-Null Count   Dtype  \n",
      "---  ------   --------------   -----  \n",
      " 0   id       100000 non-null  object \n",
      " 1   f0       100000 non-null  float64\n",
      " 2   f1       100000 non-null  float64\n",
      " 3   f2       100000 non-null  float64\n",
      " 4   product  100000 non-null  float64\n",
      "dtypes: float64(4), object(1)\n",
      "memory usage: 3.8+ MB\n",
      "None\n"
     ]
    },
    {
     "data": {
      "text/html": [
       "<div>\n",
       "<style scoped>\n",
       "    .dataframe tbody tr th:only-of-type {\n",
       "        vertical-align: middle;\n",
       "    }\n",
       "\n",
       "    .dataframe tbody tr th {\n",
       "        vertical-align: top;\n",
       "    }\n",
       "\n",
       "    .dataframe thead th {\n",
       "        text-align: right;\n",
       "    }\n",
       "</style>\n",
       "<table border=\"1\" class=\"dataframe\">\n",
       "  <thead>\n",
       "    <tr style=\"text-align: right;\">\n",
       "      <th></th>\n",
       "      <th>id</th>\n",
       "      <th>f0</th>\n",
       "      <th>f1</th>\n",
       "      <th>f2</th>\n",
       "      <th>product</th>\n",
       "    </tr>\n",
       "  </thead>\n",
       "  <tbody>\n",
       "    <tr>\n",
       "      <th>0</th>\n",
       "      <td>fwXo0</td>\n",
       "      <td>-1.146987</td>\n",
       "      <td>0.963328</td>\n",
       "      <td>-0.828965</td>\n",
       "      <td>27.758673</td>\n",
       "    </tr>\n",
       "    <tr>\n",
       "      <th>1</th>\n",
       "      <td>WJtFt</td>\n",
       "      <td>0.262778</td>\n",
       "      <td>0.269839</td>\n",
       "      <td>-2.530187</td>\n",
       "      <td>56.069697</td>\n",
       "    </tr>\n",
       "    <tr>\n",
       "      <th>2</th>\n",
       "      <td>ovLUW</td>\n",
       "      <td>0.194587</td>\n",
       "      <td>0.289035</td>\n",
       "      <td>-5.586433</td>\n",
       "      <td>62.871910</td>\n",
       "    </tr>\n",
       "    <tr>\n",
       "      <th>3</th>\n",
       "      <td>q6cA6</td>\n",
       "      <td>2.236060</td>\n",
       "      <td>-0.553760</td>\n",
       "      <td>0.930038</td>\n",
       "      <td>114.572842</td>\n",
       "    </tr>\n",
       "    <tr>\n",
       "      <th>4</th>\n",
       "      <td>WPMUX</td>\n",
       "      <td>-0.515993</td>\n",
       "      <td>1.716266</td>\n",
       "      <td>5.899011</td>\n",
       "      <td>149.600746</td>\n",
       "    </tr>\n",
       "  </tbody>\n",
       "</table>\n",
       "</div>"
      ],
      "text/plain": [
       "      id        f0        f1        f2     product\n",
       "0  fwXo0 -1.146987  0.963328 -0.828965   27.758673\n",
       "1  WJtFt  0.262778  0.269839 -2.530187   56.069697\n",
       "2  ovLUW  0.194587  0.289035 -5.586433   62.871910\n",
       "3  q6cA6  2.236060 -0.553760  0.930038  114.572842\n",
       "4  WPMUX -0.515993  1.716266  5.899011  149.600746"
      ]
     },
     "metadata": {},
     "output_type": "display_data"
    },
    {
     "data": {
      "text/html": [
       "<div>\n",
       "<style scoped>\n",
       "    .dataframe tbody tr th:only-of-type {\n",
       "        vertical-align: middle;\n",
       "    }\n",
       "\n",
       "    .dataframe tbody tr th {\n",
       "        vertical-align: top;\n",
       "    }\n",
       "\n",
       "    .dataframe thead th {\n",
       "        text-align: right;\n",
       "    }\n",
       "</style>\n",
       "<table border=\"1\" class=\"dataframe\">\n",
       "  <thead>\n",
       "    <tr style=\"text-align: right;\">\n",
       "      <th></th>\n",
       "      <th>f0</th>\n",
       "      <th>f1</th>\n",
       "      <th>f2</th>\n",
       "      <th>product</th>\n",
       "    </tr>\n",
       "  </thead>\n",
       "  <tbody>\n",
       "    <tr>\n",
       "      <th>count</th>\n",
       "      <td>100000.000000</td>\n",
       "      <td>100000.000000</td>\n",
       "      <td>100000.000000</td>\n",
       "      <td>100000.000000</td>\n",
       "    </tr>\n",
       "    <tr>\n",
       "      <th>mean</th>\n",
       "      <td>0.002023</td>\n",
       "      <td>-0.002081</td>\n",
       "      <td>2.495128</td>\n",
       "      <td>95.000000</td>\n",
       "    </tr>\n",
       "    <tr>\n",
       "      <th>std</th>\n",
       "      <td>1.732045</td>\n",
       "      <td>1.730417</td>\n",
       "      <td>3.473445</td>\n",
       "      <td>44.749921</td>\n",
       "    </tr>\n",
       "    <tr>\n",
       "      <th>min</th>\n",
       "      <td>-8.760004</td>\n",
       "      <td>-7.084020</td>\n",
       "      <td>-11.970335</td>\n",
       "      <td>0.000000</td>\n",
       "    </tr>\n",
       "    <tr>\n",
       "      <th>25%</th>\n",
       "      <td>-1.162288</td>\n",
       "      <td>-1.174820</td>\n",
       "      <td>0.130359</td>\n",
       "      <td>59.450441</td>\n",
       "    </tr>\n",
       "    <tr>\n",
       "      <th>50%</th>\n",
       "      <td>0.009424</td>\n",
       "      <td>-0.009482</td>\n",
       "      <td>2.484236</td>\n",
       "      <td>94.925613</td>\n",
       "    </tr>\n",
       "    <tr>\n",
       "      <th>75%</th>\n",
       "      <td>1.158535</td>\n",
       "      <td>1.163678</td>\n",
       "      <td>4.858794</td>\n",
       "      <td>130.595027</td>\n",
       "    </tr>\n",
       "    <tr>\n",
       "      <th>max</th>\n",
       "      <td>7.238262</td>\n",
       "      <td>7.844801</td>\n",
       "      <td>16.739402</td>\n",
       "      <td>190.029838</td>\n",
       "    </tr>\n",
       "  </tbody>\n",
       "</table>\n",
       "</div>"
      ],
      "text/plain": [
       "                  f0             f1             f2        product\n",
       "count  100000.000000  100000.000000  100000.000000  100000.000000\n",
       "mean        0.002023      -0.002081       2.495128      95.000000\n",
       "std         1.732045       1.730417       3.473445      44.749921\n",
       "min        -8.760004      -7.084020     -11.970335       0.000000\n",
       "25%        -1.162288      -1.174820       0.130359      59.450441\n",
       "50%         0.009424      -0.009482       2.484236      94.925613\n",
       "75%         1.158535       1.163678       4.858794     130.595027\n",
       "max         7.238262       7.844801      16.739402     190.029838"
      ]
     },
     "metadata": {},
     "output_type": "display_data"
    },
    {
     "name": "stdout",
     "output_type": "stream",
     "text": [
      "----------------------------------------------------\n"
     ]
    }
   ],
   "source": [
    "df = [df0, df1, df2]\n",
    "see_list(df)"
   ]
  },
  {
   "cell_type": "code",
   "execution_count": 5,
   "metadata": {
    "scrolled": true
   },
   "outputs": [
    {
     "name": "stdout",
     "output_type": "stream",
     "text": [
      "Объем запасов в источнике geo_data_0 - 9250000  (тыс. баррелей)\n",
      "Объем запасов в источнике geo_data_1 - 6882500  (тыс. баррелей)\n",
      "Объем запасов в источнике geo_data_2 - 9500000  (тыс. баррелей)\n"
     ]
    }
   ],
   "source": [
    "print('Объем запасов в источнике geo_data_0 - {:.0f}'.format(df0['product'].sum()),' (тыс. баррелей)')\n",
    "print('Объем запасов в источнике geo_data_1 - {:.0f}'.format(df1['product'].sum()),' (тыс. баррелей)')\n",
    "print('Объем запасов в источнике geo_data_2 - {:.0f}'.format(df2['product'].sum()),' (тыс. баррелей)')"
   ]
  },
  {
   "cell_type": "markdown",
   "metadata": {},
   "source": [
    "<b> Выводы:\n",
    "<p> Типы данных не требуется менять.\n",
    "<p> Переименновывать столбцы не требуется\n",
    "<p> Пропуски в данных отсутствуют\n",
    "<p> Прямое кодирование и масштабирование признаков не требуется\n",
    "<p> Категориальный признак id не несет в себе полезных значений для обучения модели, поэтому исключим id.\n",
    "<p> product = target\n",
    "<p> f0, f1, f2 = features\n",
    "<hr> Данных много, поэтому нужен графический анализ данных"
   ]
  },
  {
   "cell_type": "code",
   "execution_count": 6,
   "metadata": {
    "scrolled": true
   },
   "outputs": [
    {
     "data": {
      "image/png": "[encoded data removed]",
      "text/plain": [
       "<Figure size 720x288 with 1 Axes>"
      ]
     },
     "metadata": {
      "needs_background": "light"
     },
     "output_type": "display_data"
    }
   ],
   "source": [
    "ax = df0.sort_values(by='product', ascending=False).plot(\n",
    "    kind='hist',\n",
    "    y='product',\n",
    "    histtype='step',\n",
    "    range=(0, 200),\n",
    "    bins=100,\n",
    "    linewidth=2,\n",
    "    alpha=0.7,\n",
    "    label='df0',\n",
    ")\n",
    "df1.sort_values(by='product', ascending=False).plot(\n",
    "    kind='hist',\n",
    "    y='product',\n",
    "    histtype='step',\n",
    "    range=(0, 200),\n",
    "    bins=100,\n",
    "    linewidth=2,\n",
    "    alpha=0.7,\n",
    "    label='df1',\n",
    "    ax=ax,\n",
    ")\n",
    "\n",
    "df2.sort_values(by='product', ascending=False).plot(\n",
    "    kind='hist',\n",
    "    y='product',\n",
    "    histtype='step',\n",
    "    range=(0, 200),\n",
    "    bins=100,\n",
    "    linewidth=2,\n",
    "    alpha=0.7,\n",
    "    label='df2',\n",
    "    ax=ax,\n",
    "    grid=True,\n",
    "    legend=True,\n",
    "    figsize = (10,4)\n",
    ");\n",
    "plt.title('Анализ запасов нефти')\n",
    "plt.xlabel('Объём запасов в скважине (тыс. баррелей)')\n",
    "plt.ylabel(\"Количество скважин\");"
   ]
  },
  {
   "cell_type": "markdown",
   "metadata": {},
   "source": [
    "Судя по разпределению значений df1 далёк от нормального распределения.\n",
    "<p> Попробуем сгруппировать значений \"по убыванию\" и построить график еще раз."
   ]
  },
  {
   "cell_type": "code",
   "execution_count": 7,
   "metadata": {},
   "outputs": [
    {
     "data": {
      "image/png": "[encoded data removed]",
      "text/plain": [
       "<Figure size 720x288 with 1 Axes>"
      ]
     },
     "metadata": {
      "needs_background": "light"
     },
     "output_type": "display_data"
    }
   ],
   "source": [
    "pro_df = pd.DataFrame()\n",
    "pro_df['pro0'] = df0.sort_values(by='product', ascending=False)['product'].reset_index(drop=True)\n",
    "pro_df['pro1'] = df1.sort_values(by='product', ascending=False)['product'].reset_index(drop=True)\n",
    "pro_df['pro2'] = df2.sort_values(by='product', ascending=False)['product'].reset_index(drop=True)\n",
    "\n",
    "pro_df.reset_index().plot(x='index', y=['pro0', 'pro1', 'pro2'], linewidth=3, figsize = (10,4))\n",
    "plt.title('Анализ запасов нефти (после группировки)')\n",
    "plt.xlabel('Поряковый номер скважины')\n",
    "plt.ylabel('Объём запасов в скважине (тыс. баррелей)');\n",
    "plt.show()"
   ]
  },
  {
   "cell_type": "markdown",
   "metadata": {},
   "source": [
    "<b>Вывод:\n",
    "<p> Про качество нефти здесь нет возможности говорить, но по объему запасов лидирует источник geo_data_2.csv.\n",
    "<p> Источник geo_data_1.csv содержит данные о сильно похожих друг на друга скважинах, как-будто они искусственно созданы человеком (по ГОСТу), есть такая тенденция добывать нефть на воде и закачивать в искусственные скважины на суше (это в США, а у нас эти скважины называются - резервуары и расположены они на нефтебазах).\n",
    "<p> Высока вероятность того, что источник geo_data_1.csv - собственные запасы предприятия или очень \"искусственно синтезированные данные\"."
   ]
  },
  {
   "cell_type": "code",
   "execution_count": 8,
   "metadata": {},
   "outputs": [],
   "source": [
    "# функция создания данных для обучения\n",
    "def data(df):\n",
    "    features = df.drop(['id','product'], axis=1)\n",
    "    target = df['product']\n",
    "    features_train, features_valid, target_train, target_valid = train_test_split(\n",
    "    features, target, test_size=0.25, random_state=12345) # 25% данные для валидационной выборки \n",
    "    return features_train, features_valid, target_train, target_valid"
   ]
  },
  {
   "cell_type": "markdown",
   "metadata": {},
   "source": [
    "Проверим как производится разбивка данных:"
   ]
  },
  {
   "cell_type": "code",
   "execution_count": 9,
   "metadata": {},
   "outputs": [
    {
     "name": "stdout",
     "output_type": "stream",
     "text": [
      "Размер features_train (75000, 3)\n",
      "Размер target_train (75000,)\n",
      "\n",
      "Размер features_valid (25000, 3)\n",
      "Размер target_valid (25000,)\n"
     ]
    }
   ],
   "source": [
    "features_train, features_valid, target_train, target_valid = data(df0)\n",
    "print('Размер features_train',features_train.shape)\n",
    "print('Размер target_train',target_train.shape)\n",
    "print()\n",
    "print('Размер features_valid',features_valid.shape)\n",
    "print('Размер target_valid',target_valid.shape)"
   ]
  },
  {
   "cell_type": "markdown",
   "metadata": {},
   "source": [
    "## Обучение и проверка модели"
   ]
  },
  {
   "cell_type": "markdown",
   "metadata": {},
   "source": [
    "Принятая модель - линейная регрессия"
   ]
  },
  {
   "cell_type": "code",
   "execution_count": 10,
   "metadata": {},
   "outputs": [],
   "source": [
    "model = LinearRegression()"
   ]
  },
  {
   "cell_type": "code",
   "execution_count": 13,
   "metadata": {},
   "outputs": [],
   "source": [
    "def rmse(df): # таже функция, но с оценкой метрик\n",
    "    f_train, f_valid, t_train, t_valid = data(df) # вызов функции data\n",
    "    model.fit(f_train,t_train) # обучение модели на тренировочной выборке\n",
    "    predictions_valid = model.predict(f_valid) # предсказания модели на валидационной выборке\n",
    "    rmse = mean_squared_error(t_valid, predictions_valid)**0.5 # RMSE на валидационной выборке\n",
    "    print('RMSE модели линейной регрессии на валидационной выборке: {:.3f}'.format(rmse))\n",
    "    print('R2 =', r2_score(t_valid,predictions_valid))\n",
    "    print('Cредний запас предсказанного сырья: {:.2f}(тыс. баррелей)'.format(predictions_valid.mean()))\n",
    "    print('----------')\n",
    "    \n",
    "def rmse_list(A):\n",
    "    for x in A:  \n",
    "        rmse(x) # вызов функции rmse"
   ]
  },
  {
   "cell_type": "code",
   "execution_count": 14,
   "metadata": {
    "scrolled": true
   },
   "outputs": [
    {
     "name": "stdout",
     "output_type": "stream",
     "text": [
      "RMSE модели линейной регрессии на валидационной выборке: 37.579\n",
      "R2 = 0.27994321524487786\n",
      "Cредний запас предсказанного сырья: 92.59(тыс. баррелей)\n",
      "----------\n",
      "RMSE модели линейной регрессии на валидационной выборке: 0.893\n",
      "R2 = 0.9996233978805127\n",
      "Cредний запас предсказанного сырья: 68.73(тыс. баррелей)\n",
      "----------\n",
      "RMSE модели линейной регрессии на валидационной выборке: 40.030\n",
      "R2 = 0.20524758386040443\n",
      "Cредний запас предсказанного сырья: 94.97(тыс. баррелей)\n",
      "----------\n"
     ]
    }
   ],
   "source": [
    "rmse_list(df)"
   ]
  },
  {
   "cell_type": "markdown",
   "metadata": {},
   "source": [
    "Модели обучены, результаты оставляют желать лучшего (ошибка в 40 тыс.баррелей - это очень много)."
   ]
  },
  {
   "cell_type": "markdown",
   "metadata": {},
   "source": [
    "## Подготовка к расчёту прибыли"
   ]
  },
  {
   "cell_type": "markdown",
   "metadata": {},
   "source": [
    "<p>Перейдем к настройке алгоритма решения бизнес-задачи:\n",
    "<p>1. Синтезируем 1000 раз выборку по 500 скважин\n",
    "<p>2. Выполним сортировку по убыванию, выберем 200 лучших скважин (сверху) с большим дебетом."
   ]
  },
  {
   "cell_type": "code",
   "execution_count": 15,
   "metadata": {},
   "outputs": [],
   "source": [
    "state = RandomState(12345) # настроим случайность для Bootstrap"
   ]
  },
  {
   "cell_type": "markdown",
   "metadata": {},
   "source": [
    "## Расчёт прибыли и рисков "
   ]
  },
  {
   "cell_type": "code",
   "execution_count": 16,
   "metadata": {},
   "outputs": [],
   "source": [
    "BUDGET = 10_000_000_000 # рублей бюджет на разработку скважин в регионе \n",
    "ONE_POINT = 450_000 # рублей/тыс. баррелей \n",
    "HOLE_COUNT = 200 # лучших скважин для разработки в регионе"
   ]
  },
  {
   "cell_type": "markdown",
   "metadata": {},
   "source": [
    "Среднее значение дебета скважины для реализации безубыточного сценария (точка безубыточности):"
   ]
  },
  {
   "cell_type": "code",
   "execution_count": 17,
   "metadata": {},
   "outputs": [
    {
     "name": "stdout",
     "output_type": "stream",
     "text": [
      "Желаемый средний объём запасов в скважине 111.1 (тыс. баррелей)\n",
      "Бюджет на разработку одной скважины 50000000 (рублей)\n"
     ]
    }
   ],
   "source": [
    "BREAKEVEN_POINT = BUDGET / ONE_POINT / HOLE_COUNT # точка безубыточности\n",
    "print('Желаемый средний объём запасов в скважине {:.1f} (тыс. баррелей)'.format(BREAKEVEN_POINT))\n",
    "ONE_HOLE_BUDGET = BUDGET / HOLE_COUNT # бюджет на разрбаотку одной скважины\n",
    "print('Бюджет на разработку одной скважины {:.0f} (рублей)'.format(ONE_HOLE_BUDGET))"
   ]
  },
  {
   "cell_type": "markdown",
   "metadata": {},
   "source": [
    "Добавим к нашим графикам запасов по регионам границу среднего запаса (тыс. баррелей)."
   ]
  },
  {
   "cell_type": "code",
   "execution_count": 18,
   "metadata": {
    "scrolled": true
   },
   "outputs": [
    {
     "data": {
      "image/png": "[encoded data removed]",
      "text/plain": [
       "<Figure size 720x288 with 1 Axes>"
      ]
     },
     "metadata": {
      "needs_background": "light"
     },
     "output_type": "display_data"
    }
   ],
   "source": [
    "pro_df['line'] = BREAKEVEN_POINT\n",
    "\n",
    "pro_df.reset_index().plot(x='index', y=['pro0', 'pro1', 'pro2', 'line'], linewidth=3, figsize = (10,4))\n",
    "plt.title('Анализ запасов нефти (после группировки)')\n",
    "plt.xlabel('Поряковый номер скважины')\n",
    "plt.ylabel('Объём запасов в скважине (тыс. баррелей)');\n",
    "plt.show()"
   ]
  },
  {
   "cell_type": "markdown",
   "metadata": {},
   "source": [
    "Рассмотрим 200 независимых исходов событий.\n",
    "<p> Если в каждом таком независимом исходе будет полученная скважина с значением запаса 111.1 (тыс. баррелей) или выше, то следствием будет прибыль, а не убыток.\n",
    "<p> Пока отолкнемся от этой посылки попробуем оценить вероятность прибыли (количество хороших исходов), а риск убытков это остальное вероятностное пространство, один минус (вероятность получить прибыльный проект)."
   ]
  },
  {
   "cell_type": "code",
   "execution_count": 19,
   "metadata": {},
   "outputs": [],
   "source": [
    "def test_1000(df): # функция расчета прибыли 1000 раз\n",
    "    f_train, f_valid, t_train, t_valid = data(df) # вызов функции data\n",
    "    model.fit(f_train,t_train) # обучение модели на тренировочной выборке\n",
    "    predictions_valid = model.predict(f_valid) \n",
    "    \n",
    "    values = [] # значение прибыли\\убытка\n",
    "\n",
    "    for _ in range(1000): # создаем тестовую выборку из 200 лучших скважин\n",
    "        # создаем 500 случайных скважин\n",
    "        df_predict_500 = pd.Series(predictions_valid).sample(500, random_state=state) \n",
    "        # вытащим 200 индексов лучших значений\n",
    "        df_best_predict_200_index = df_predict_500.sort_values(ascending=False).head(200).index\n",
    "        # сразу 200 лучших вызову по индексу (здесь не нужно 500 натуральных)\n",
    "        df_best_valid_200 = t_valid.reset_index(drop=True)[df_best_predict_200_index] \n",
    "        values.append(df_best_valid_200.sum() * 450_000 - 10_000_000_000) \n",
    "    return pd.DataFrame(values)  "
   ]
  },
  {
   "cell_type": "code",
   "execution_count": 20,
   "metadata": {},
   "outputs": [],
   "source": [
    "revenue_1000_0 = test_1000(df0)\n",
    "revenue_1000_1 = test_1000(df1)\n",
    "revenue_1000_2 = test_1000(df2)\n",
    "\n",
    "revenue = pd.DataFrame()\n",
    "revenue['0'] = revenue_1000_0\n",
    "revenue['1'] = revenue_1000_1\n",
    "revenue['2'] = revenue_1000_2"
   ]
  },
  {
   "cell_type": "code",
   "execution_count": 21,
   "metadata": {},
   "outputs": [
    {
     "data": {
      "image/png": "[encoded data removed]",
      "text/plain": [
       "<Figure size 720x288 with 1 Axes>"
      ]
     },
     "metadata": {
      "needs_background": "light"
     },
     "output_type": "display_data"
    }
   ],
   "source": [
    "revenue.reset_index().plot(x='index', y=['0', '1', '2'], linewidth=1, figsize = (10,4))\n",
    "plt.title('Анализ прибыльности случайного эксперимента (из 1000 попыток)')\n",
    "plt.xlabel('Поряковый номер эксперимента')\n",
    "plt.ylabel('Прибыльность эксперимента');\n",
    "plt.show()"
   ]
  },
  {
   "cell_type": "markdown",
   "metadata": {},
   "source": [
    "Попробуем выполнить сортировку и показать сколько было прибыльных случаев в регионе 1."
   ]
  },
  {
   "cell_type": "code",
   "execution_count": 22,
   "metadata": {},
   "outputs": [],
   "source": [
    "revenue_sort = pd.DataFrame()\n",
    "revenue_sort['0'] = revenue_1000_0.sort_values(by=0, ascending=False).reset_index(drop=True)\n",
    "revenue_sort['1'] = revenue_1000_1.sort_values(by=0, ascending=False).reset_index(drop=True)\n",
    "revenue_sort['2'] = revenue_1000_2.sort_values(by=0, ascending=False).reset_index(drop=True)"
   ]
  },
  {
   "cell_type": "code",
   "execution_count": 23,
   "metadata": {
    "scrolled": false
   },
   "outputs": [
    {
     "data": {
      "image/png": "[encoded data removed]",
      "text/plain": [
       "<Figure size 720x288 with 1 Axes>"
      ]
     },
     "metadata": {
      "needs_background": "light"
     },
     "output_type": "display_data"
    }
   ],
   "source": [
    "revenue_sort['line'] = 0\n",
    "revenue_sort.reset_index().plot(x='index', y=['0', '1', '2', 'line'], linewidth=1, figsize = (10,4))\n",
    "plt.title('Анализ прибыльности случайного эксперимента (из 1000 попыток)')\n",
    "plt.xlabel('Поряковый номер эксперимента')\n",
    "plt.ylabel('Прибыльность эксперимента');\n",
    "plt.show()"
   ]
  },
  {
   "cell_type": "code",
   "execution_count": 24,
   "metadata": {},
   "outputs": [],
   "source": [
    "def interval(df):\n",
    "    revenue = df[0].mean()\n",
    "\n",
    "    if  revenue > 0:\n",
    "        print('Прибыльный регион')\n",
    "        print('Cредняя прибыль {:.0f} руб.'.format(revenue))\n",
    "    else:\n",
    "        print('Убыточный регион')\n",
    "        print('Убыток {:.0f} руб.'.format(revenue)) \n",
    "        \n",
    "    print('95%-ый доверительный интервал полученного значения: ', \n",
    "          df.sort_values(by=0, ascending=False).quantile([0.025, 0.975]).values)\n",
    "                   \n",
    "    p1 = df[df[0] >= 0][0].count()/df.shape[0]\n",
    "    print('Вероятность безубыточного проекта в регионе: {:.2f}'.format(p1))\n",
    "    print('Вероятность (риск) убыточного проекта в регионе: {:.2f}'.format(1 - p1))\n",
    "    print()\n",
    "    print('______________________')\n",
    "    print()\n",
    "\n",
    "def interval_list(A):\n",
    "    i = 0\n",
    "    for x in A:\n",
    "        print('Регион: ', i)\n",
    "        i += 1\n",
    "        interval(x) # вызов функции interval"
   ]
  },
  {
   "cell_type": "code",
   "execution_count": 25,
   "metadata": {
    "scrolled": true
   },
   "outputs": [
    {
     "name": "stdout",
     "output_type": "stream",
     "text": [
      "Регион:  0\n",
      "Прибыльный регион\n",
      "Cредняя прибыль 380710891 руб.\n",
      "95%-ый доверительный интервал полученного значения:  [[-1.26947638e+08]\n",
      " [ 8.79613968e+08]]\n",
      "Вероятность безубыточного проекта в регионе: 0.93\n",
      "Вероятность (риск) убыточного проекта в регионе: 0.07\n",
      "\n",
      "______________________\n",
      "\n",
      "Регион:  1\n",
      "Прибыльный регион\n",
      "Cредняя прибыль 454785435 руб.\n",
      "95%-ый доверительный интервал полученного значения:  [[4.67300848e+07]\n",
      " [8.40213356e+08]]\n",
      "Вероятность безубыточного проекта в регионе: 0.99\n",
      "Вероятность (риск) убыточного проекта в регионе: 0.01\n",
      "\n",
      "______________________\n",
      "\n",
      "Регион:  2\n",
      "Прибыльный регион\n",
      "Cредняя прибыль 389217074 руб.\n",
      "95%-ый доверительный интервал полученного значения:  [[-1.15609566e+08]\n",
      " [ 9.06512590e+08]]\n",
      "Вероятность безубыточного проекта в регионе: 0.93\n",
      "Вероятность (риск) убыточного проекта в регионе: 0.07\n",
      "\n",
      "______________________\n",
      "\n"
     ]
    }
   ],
   "source": [
    "revenue_1000 = [revenue_1000_0, revenue_1000_1, revenue_1000_2]\n",
    "interval_list(revenue_1000)"
   ]
  },
  {
   "cell_type": "markdown",
   "metadata": {},
   "source": [
    "<b>Выводы:\n",
    "<p>Обучены 3 модели на данных из трех разных регионов.\n",
    "<p> Каждая модель \"наугадывала\" себе 1000 раз (исходя из значений признаков f0/f1/f2) по 200 лучших скважин методом bootstrep.\n",
    "<p> Графическим методом визуализированы прибыльные эксперименты.\n",
    "<p> Регион 1 имеет самый низкий риск убыточного проекта. К разработке месторождения рекомендован регион 1."
   ]
  }
 ],
 "metadata": {
  "ExecuteTimeLog": [
   {
    "duration": 9,
    "start_time": "2022-05-17T06:53:31.266Z"
   }
  ],
  "kernelspec": {
   "display_name": "Python 3 (ipykernel)",
   "language": "python",
   "name": "python3"
  },
  "language_info": {
   "codemirror_mode": {
    "name": "ipython",
    "version": 3
   },
   "file_extension": ".py",
   "mimetype": "text/x-python",
   "name": "python",
   "nbconvert_exporter": "python",
   "pygments_lexer": "ipython3",
   "version": "3.7.8"
  },
  "toc": {
   "base_numbering": 1,
   "nav_menu": {},
   "number_sections": true,
   "sideBar": true,
   "skip_h1_title": true,
   "title_cell": "Table of Contents",
   "title_sidebar": "Contents",
   "toc_cell": false,
   "toc_position": {},
   "toc_section_display": true,
   "toc_window_display": false
  }
 },
 "nbformat": 4,
 "nbformat_minor": 2
}
